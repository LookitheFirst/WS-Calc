{
 "cells": [
  {
   "cell_type": "code",
   "execution_count": 92,
   "metadata": {},
   "outputs": [],
   "source": [
    "from __future__ import print_function\n",
    "from ipywidgets import interact, interactive, fixed, interact_manual, HBox, Label\n",
    "import ipywidgets as widgets"
   ]
  },
  {
   "cell_type": "code",
   "execution_count": 109,
   "metadata": {},
   "outputs": [],
   "source": [
    "uebungen = 13\n",
    "kreuze = 13 * 6"
   ]
  },
  {
   "cell_type": "code",
   "execution_count": 123,
   "metadata": {},
   "outputs": [],
   "source": [
    "def calc(beispiele, **tafelleistung):\n",
    "    beispiele_prozent = beispiele / kreuze\n",
    "    print(\"                Bsp %:\", round(beispiele_prozent, 2))\n",
    "    tafelleistung_prozente = list(tafelleistung.values())\n",
    "    tafelleistung_mean = sum(tafelleistung_prozente) / len(tafelleistung_prozente)\n",
    "    print(\"              TL Mean:\", round(tafelleistung_mean, 2))\n",
    "    note_prozent = (beispiele_prozent + tafelleistung_mean) / 2\n",
    "    print(\"     Prozent erreicht:\", round(note_prozent, 2))\n",
    "    if note_prozent < 0.5:\n",
    "        print(\"Voraussichtliche Note: N5\")\n",
    "    elif note_prozent <= 0.625:\n",
    "        print(\"Voraussichtliche Note: G4\")\n",
    "    elif note_prozent <= 0.75:\n",
    "        print(\"Voraussichtliche Note: B3\")\n",
    "    elif note_prozent <= 0.875:\n",
    "        print(\"Voraussichtliche Note: U2\")\n",
    "    else:\n",
    "        print(\"Voraussichtliche Note: S1\")"
   ]
  },
  {
   "cell_type": "code",
   "execution_count": 124,
   "metadata": {},
   "outputs": [],
   "source": [
    "def get_args(number_of_tl):\n",
    "    kwargs = {\n",
    "        \"beispiele\": widgets.IntSlider(description=\"Kreuze\", min=(uebungen - 2) * 4, max=kreuze, step=1)\n",
    "    }\n",
    "    for i in range(number_of_tl):\n",
    "        kwargs[str(i)] = widgets.FloatSlider(description=\"TL %i\" % (i + 1), min=0, max=1, step=0.01, value=1)\n",
    "    if number_of_tl > 0:\n",
    "        interact(calc, **kwargs)"
   ]
  },
  {
   "cell_type": "code",
   "execution_count": 125,
   "metadata": {},
   "outputs": [
    {
     "data": {
      "application/vnd.jupyter.widget-view+json": {
       "model_id": "018da566ea1a426aaa4ee8674df5018f",
       "version_major": 2,
       "version_minor": 0
      },
      "text/plain": [
       "interactive(children=(IntSlider(value=0, description='Anzahl TL', max=4), Output()), _dom_classes=('widget-int…"
      ]
     },
     "metadata": {},
     "output_type": "display_data"
    }
   ],
   "source": [
    "interact(get_args, number_of_tl=widgets.IntSlider(description=\"Anzahl TL\", min=0, max=4, step=1, value=0));"
   ]
  }
 ],
 "metadata": {
  "kernelspec": {
   "display_name": "Python 3",
   "language": "python",
   "name": "python3"
  },
  "language_info": {
   "codemirror_mode": {
    "name": "ipython",
    "version": 3
   },
   "file_extension": ".py",
   "mimetype": "text/x-python",
   "name": "python",
   "nbconvert_exporter": "python",
   "pygments_lexer": "ipython3",
   "version": "3.8.3"
  }
 },
 "nbformat": 4,
 "nbformat_minor": 4
}
